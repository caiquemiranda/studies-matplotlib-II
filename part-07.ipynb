{
 "cells": [
  {
   "attachments": {},
   "cell_type": "markdown",
   "metadata": {},
   "source": [
    "### Chapter 7: Colormaps"
   ]
  },
  {
   "attachments": {},
   "cell_type": "markdown",
   "metadata": {},
   "source": [
    "#### Basic usage"
   ]
  },
  {
   "cell_type": "code",
   "execution_count": null,
   "metadata": {},
   "outputs": [],
   "source": [
    "import matplotlib.pyplot as plt\n",
    "import numpy as np\n",
    "plt.figure()\n",
    "plt.pcolormesh(np.random.rand(20,20),cmap='hot')\n",
    "plt.show()"
   ]
  },
  {
   "cell_type": "code",
   "execution_count": null,
   "metadata": {},
   "outputs": [],
   "source": [
    "import matplotlib.pyplot as plt\n",
    "from mpl_toolkits.mplot3d import Axes3D\n",
    "from matplotlib.ticker import LinearLocator\n",
    "# generate example data\n",
    "import numpy as np\n",
    "x,y = np.meshgrid(np.linspace(-1,1,15),np.linspace(-1,1,15))\n",
    "z = np.cos(x*np.pi)*np.sin(y*np.pi)\n",
    "# actual plotting example\n",
    "fig = plt.figure()\n",
    "ax1 = fig.add_subplot(121, projection='3d')\n",
    "ax1.plot_surface(x,y,z,rstride=1,cstride=1,cmap='viridis')\n",
    "ax2 = fig.add_subplot(122)\n",
    "cf = ax2.contourf(x,y,z,51,vmin=-1,vmax=1,cmap='viridis')\n",
    "cbar = fig.colorbar(cf)\n",
    "cbar.locator = LinearLocator(numticks=11)\n",
    "cbar.update_ticks()\n",
    "for ax in {ax1, ax2}:\n",
    "ax.set_xlabel(r'$x$')\n",
    "ax.set_ylabel(r'$y$')\n",
    "ax.set_xlim([-1,1])\n",
    "ax.set_ylim([-1,1])\n",
    "ax.set_aspect('equal')\n",
    "ax1.set_zlim([-1,1])\n",
    "ax1.set_zlabel(r'$\\cos(\\pi x) \\sin(\\p i y)$')\n",
    "plt.show()"
   ]
  },
  {
   "attachments": {},
   "cell_type": "markdown",
   "metadata": {},
   "source": [
    "#### Using custom colormaps"
   ]
  },
  {
   "cell_type": "code",
   "execution_count": null,
   "metadata": {},
   "outputs": [],
   "source": [
    "import matplotlib.pyplot as plt\n",
    "from mpl_toolkits.mplot3d import Axes3D\n",
    "import matplotlib.cm as cm\n",
    "# generate data for sphere\n",
    "from numpy import pi,meshgrid,linspace,sin,cos\n",
    "th,ph = meshgrid(linspace(0,pi,25),linspace(0,2*pi,51))\n",
    "x,y,z = sin(th)*cos(ph),sin(th)*sin(ph),cos(th)\n",
    "https://riptutorial.com/ 38\n",
    "# define custom colormap with fixed colour and alpha gradient\n",
    "# use simple linear interpolation in the entire scale\n",
    "cm.register_cmap(name='alpha_gradient',\n",
    "data={'red': [(0.,0,0),\n",
    "(1.,0,0)],\n",
    "'green': [(0.,0.6,0.6),\n",
    "(1.,0.6,0.6)],\n",
    "'blue': [(0.,0.4,0.4),\n",
    "(1.,0.4,0.4)],\n",
    "'alpha': [(0.,1,1),\n",
    "(1.,0,0)]})\n",
    "# plot sphere with custom colormap; constrain mapping to between |z|=0.7 for enhanced effect\n",
    "fig = plt.figure()\n",
    "ax = fig.add_subplot(111, projection='3d')\n",
    "ax.plot_surface(x,y,z,cmap='alpha_gradient',vmin=-\n",
    "0.7,vmax=0.7,rstride=1,cstride=1,linewidth=0.5,edgecolor='b')\n",
    "ax.set_xlim([-1,1])\n",
    "ax.set_ylim([-1,1])\n",
    "ax.set_zlim([-1,1])\n",
    "ax.set_aspect('equal')\n",
    "plt.show()"
   ]
  },
  {
   "attachments": {},
   "cell_type": "markdown",
   "metadata": {},
   "source": [
    "#### Custom discrete colormap"
   ]
  },
  {
   "cell_type": "code",
   "execution_count": null,
   "metadata": {},
   "outputs": [],
   "source": [
    "import matplotlib.pyplot as plt\n",
    "import numpy as np\n",
    "import matplotlib.colors\n",
    "x = np.linspace(-2,2,500)\n",
    "y = np.linspace(-2,2,500)\n",
    "XX, YY = np.meshgrid(x, y)\n",
    "Z = np.sin(XX) * np.cos(YY)\n",
    "cmap = colors.ListedColormap(['red', '#000000','#444444', '#666666', '#ffffff', 'blue',\n",
    "'orange'])\n",
    "boundaries = [-1, -0.9, -0.6, -0.3, 0, 0.3, 0.6, 1]\n",
    "norm = colors.BoundaryNorm(boundaries, cmap.N, clip=True)\n",
    "https://riptutorial.com/ 42\n",
    "plt.pcolormesh(x,y,Z, cmap=cmap, norm=norm)\n",
    "plt.colorbar()\n",
    "plt.show()"
   ]
  },
  {
   "attachments": {},
   "cell_type": "markdown",
   "metadata": {},
   "source": [
    "### End."
   ]
  }
 ],
 "metadata": {
  "kernelspec": {
   "display_name": "Python 3",
   "language": "python",
   "name": "python3"
  },
  "language_info": {
   "name": "python",
   "version": "3.10.5"
  },
  "orig_nbformat": 4,
  "vscode": {
   "interpreter": {
    "hash": "74af3d2f25f1e46ebd2903d59225d79e4675ec224d56c01fc30cd168c2010d53"
   }
  }
 },
 "nbformat": 4,
 "nbformat_minor": 2
}
