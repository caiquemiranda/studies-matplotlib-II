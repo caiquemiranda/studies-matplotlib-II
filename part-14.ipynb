{
 "cells": [
  {
   "attachments": {},
   "cell_type": "markdown",
   "metadata": {},
   "source": [
    "### Chapter 14: Integration with TeX/LaTeX"
   ]
  },
  {
   "attachments": {},
   "cell_type": "markdown",
   "metadata": {},
   "source": [
    "#### Inserting TeX formulae in plots"
   ]
  },
  {
   "cell_type": "code",
   "execution_count": null,
   "metadata": {},
   "outputs": [],
   "source": [
    "import matplotlib.pyplot as plt\n",
    "plt.rc(usetex = True)"
   ]
  },
  {
   "cell_type": "code",
   "execution_count": null,
   "metadata": {},
   "outputs": [],
   "source": [
    "import matplotlib.pyplot as plt\n",
    "params = {'tex.usetex': True}\n",
    "plt.rcParams.update(params)"
   ]
  },
  {
   "cell_type": "code",
   "execution_count": null,
   "metadata": {},
   "outputs": [],
   "source": [
    "plt.xlabel('\\\\alpha')\n",
    "plt.xlabel(r'\\alpha')"
   ]
  },
  {
   "cell_type": "code",
   "execution_count": null,
   "metadata": {},
   "outputs": [],
   "source": [
    "import matplotlib.pyplot as plt\n",
    "plt.rc(usetex = True)\n",
    "x = range(0,10)\n",
    "y = [t**2 for t in x]\n",
    "z = [t**2+1 for t in x]\n",
    "plt.plot(x, y, label = r'$\\beta=\\alpha^2$')\n",
    "plt.plot(x, z, label = r'$\\beta=\\alpha^2+1$')\n",
    "plt.xlabel(r'$\\alpha$')\n",
    "plt.ylabel(r'$\\beta$')\n",
    "plt.legend(loc=0)\n",
    "plt.show()"
   ]
  },
  {
   "cell_type": "code",
   "execution_count": null,
   "metadata": {},
   "outputs": [],
   "source": [
    "params = {'text.latex.preamble' : [r'\\usepackage{siunitx}', r'\\usepackage{amsmath}']}\n",
    "plt.rcParams.update(params)"
   ]
  },
  {
   "cell_type": "code",
   "execution_count": null,
   "metadata": {},
   "outputs": [],
   "source": [
    "#text.latex.preamble : # IMPROPER USE OF THIS FEATURE WILL LEAD TO LATEX FAILURES\n",
    "# AND IS THEREFORE UNSUPPORTED. PLEASE DO NOT ASK FOR HELP\n",
    "# IF THIS FEATURE DOES NOT DO WHAT YOU EXPECT IT TO.\n",
    "# preamble is a comma separated list of LaTeX statements\n",
    "# that are included in the LaTeX document preamble.\n",
    "# An example:\n",
    "# text.latex.preamble : \\usepackage{bm},\\usepackage{euler}\n",
    "# The following packages are always loaded with usetex, so\n",
    "# beware of package collisions: color, geometry, graphicx,\n",
    "# type1cm, textcomp. Adobe Postscript (PSSNFS) font packages\n",
    "# may also be loaded, depending on your font settings"
   ]
  },
  {
   "cell_type": "code",
   "execution_count": null,
   "metadata": {},
   "outputs": [],
   "source": [
    "import matplotlib.pyplot as plt\n",
    "plt.rc(usetex=True)\n",
    "x = range(0, 10)\n",
    "y = [t**2 for t in x]\n",
    "z = [t**2+1 for t in x]\n",
    "plt.plot(x, y, label=r'$\\beta=\\alpha^2$')\n",
    "plt.plot(x, z, label=r'$\\beta=\\alpha^2+1$')\n",
    "plt.xlabel(r'$\\alpha$')\n",
    "plt.ylabel(r'$\\beta$')\n",
    "plt.legend(loc=0)\n",
    "plt.savefig('my_pdf_plot.pdf') # Saving plot to pdf file\n",
    "plt.savefig('my_eps_plot.eps') # Saving plot to eps file"
   ]
  },
  {
   "cell_type": "code",
   "execution_count": null,
   "metadata": {},
   "outputs": [],
   "source": [
    "import matplotlib.pyplot as plt\n",
    "plt.rc(usetex=True)\n",
    "x = range(0, 10)\n",
    "y = [t**2 for t in x]\n",
    "z = [t**2+1 for t in x]\n",
    "plt.plot(x, y, label=r'$\\beta=\\alpha^2$')\n",
    "plt.plot(x, z, label=r'$\\beta=\\alpha^2+1$')\n",
    "plt.xlabel(r'$\\alpha$')\n",
    "plt.ylabel(r'$\\beta$')\n",
    "plt.legend(loc=0)\n",
    "plt.savefig('my_pgf_plot.pgf')"
   ]
  },
  {
   "cell_type": "code",
   "execution_count": null,
   "metadata": {},
   "outputs": [],
   "source": [
    "plt.rc('pgf', texsystem='pdflatex') # or luatex, xelatex..."
   ]
  },
  {
   "cell_type": "code",
   "execution_count": null,
   "metadata": {},
   "outputs": [],
   "source": [
    "\\usepackage{pgf}"
   ]
  },
  {
   "cell_type": "code",
   "execution_count": null,
   "metadata": {},
   "outputs": [],
   "source": [
    "\\input{my_pgf_plot.pgf}"
   ]
  },
  {
   "attachments": {},
   "cell_type": "markdown",
   "metadata": {},
   "source": [
    "### End."
   ]
  }
 ],
 "metadata": {
  "kernelspec": {
   "display_name": "Python 3",
   "language": "python",
   "name": "python3"
  },
  "language_info": {
   "name": "python",
   "version": "3.10.5"
  },
  "orig_nbformat": 4,
  "vscode": {
   "interpreter": {
    "hash": "74af3d2f25f1e46ebd2903d59225d79e4675ec224d56c01fc30cd168c2010d53"
   }
  }
 },
 "nbformat": 4,
 "nbformat_minor": 2
}
