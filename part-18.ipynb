{
 "cells": [
  {
   "attachments": {},
   "cell_type": "markdown",
   "metadata": {},
   "source": [
    "### Chapter 18: Three-dimensional plots"
   ]
  },
  {
   "cell_type": "code",
   "execution_count": null,
   "metadata": {},
   "outputs": [],
   "source": [
    "from mpl_toolkits.mplot3d import Axes3D\n",
    "import matplotlib.pyplot as plt\n",
    "import numpy as np\n",
    "from scipy.special import erf\n",
    "fig = plt.figure()\n",
    "ax = fig.gca(projection='3d')\n",
    "X = np.arange(0, 6, 0.25)\n",
    "Y = np.arange(0, 6, 0.25)\n",
    "X, Y = np.meshgrid(X, Y)\n",
    "Z1 = np.empty_like(X)\n",
    "Z2 = np.empty_like(X)\n",
    "C1 = np.empty_like(X, dtype=object)\n",
    "C2 = np.empty_like(X, dtype=object)\n",
    "for i in range(len(X)):\n",
    "for j in range(len(X[0])):\n",
    "z1 = 0.5*(erf((X[i,j]+Y[i,j]-4.5)*0.5)+1)\n",
    "z2 = 0.5*(erf((-X[i,j]-Y[i,j]+4.5)*0.5)+1)\n",
    "Z1[i,j] = z1\n",
    "Z2[i,j] = z2\n",
    "# If you want to grab a colour from a matplotlib cmap function,\n",
    "# you need to give it a number between 0 and 1. z1 and z2 are\n",
    "# already in this range, so it just works as is.\n",
    "C1[i,j] = plt.get_cmap(\"Oranges\")(z1)\n",
    "C2[i,j] = plt.get_cmap(\"Blues\")(z2)\n",
    "# Create a transparent bridge region\n",
    "X_bridge = np.vstack([X[-1,:],X[-1,:]])\n",
    "Y_bridge = np.vstack([Y[-1,:],Y[-1,:]])\n",
    "Z_bridge = np.vstack([Z1[-1,:],Z2[-1,:]])\n",
    "color_bridge = np.empty_like(Z_bridge, dtype=object)\n",
    "color_bridge.fill((1,1,1,0)) # RGBA colour, onlt the last component matters - it represents\n",
    "the alpha / opacity.\n",
    "# Join the two surfaces flipping one of them (using also the bridge)\n",
    "X_full = np.vstack([X, X_bridge, np.flipud(X)])\n",
    "Y_full = np.vstack([Y, Y_bridge, np.flipud(Y)])\n",
    "Z_full = np.vstack([Z1, Z_bridge, np.flipud(Z2)])\n",
    "color_full = np.vstack([C1, color_bridge, np.flipud(C2)])\n",
    "surf_full = ax.plot_surface(X_full, Y_full, Z_full, rstride=1, cstride=1,\n",
    "facecolors=color_full, linewidth=0,\n",
    "antialiased=False)\n",
    "plt.show()"
   ]
  },
  {
   "attachments": {},
   "cell_type": "markdown",
   "metadata": {},
   "source": [
    "### Creating three-dimensional axes"
   ]
  },
  {
   "cell_type": "code",
   "execution_count": null,
   "metadata": {},
   "outputs": [],
   "source": [
    "import matplotlib.pyplot as plt\n",
    "from mpl_toolkits.mplot3d import Axes3D\n",
    "fig = plt.figure()\n",
    "ax = fig.add_subplot(111, projection='3d')\n",
    "Beside the straightforward generalizations of two-dimensional plots (such as line plots, scatter\n",
    "plots, bar plots, contour plots), several surface plotting methods are available, for instance\n",
    "ax.plot_surface:\n",
    "https://riptutorial.com/ 90\n",
    "# generate example data\n",
    "import numpy as np\n",
    "x,y = np.meshgrid(np.linspace(-1,1,15),np.linspace(-1,1,15))\n",
    "z = np.cos(x*np.pi)*np.sin(y*np.pi)\n",
    "# actual plotting example\n",
    "fig = plt.figure()\n",
    "ax = fig.add_subplot(111, projection='3d')\n",
    "# rstride and cstride are row and column stride (step size)\n",
    "ax.plot_surface(x,y,z,rstride=1,cstride=1,cmap='hot')\n",
    "ax.set_xlabel(r'$x$')\n",
    "ax.set_ylabel(r'$y$')\n",
    "ax.set_zlabel(r'$\\cos(\\pi x) \\sin(\\pi y)$')\n",
    "plt.show()"
   ]
  },
  {
   "attachments": {},
   "cell_type": "markdown",
   "metadata": {},
   "source": [
    "### End."
   ]
  }
 ],
 "metadata": {
  "language_info": {
   "name": "python"
  },
  "orig_nbformat": 4
 },
 "nbformat": 4,
 "nbformat_minor": 2
}
