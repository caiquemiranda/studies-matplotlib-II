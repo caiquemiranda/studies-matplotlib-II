{
 "cells": [
  {
   "attachments": {},
   "cell_type": "markdown",
   "metadata": {},
   "source": [
    "### Chapter 9: Coordinates Systems"
   ]
  },
  {
   "attachments": {},
   "cell_type": "markdown",
   "metadata": {},
   "source": [
    "#### Coordinate systems and text"
   ]
  },
  {
   "cell_type": "code",
   "execution_count": null,
   "metadata": {},
   "outputs": [],
   "source": [
    "import matplotlib.pyplot as plt\n",
    "fig, ax = plt.subplots()\n",
    "ax.plot([2.], [3.], 'bo')\n",
    "plt.text( # position text relative to data\n",
    "https://riptutorial.com/ 47\n",
    "2., 3., 'important point', # x, y, text,\n",
    "ha='center', va='bottom', # text alignment,\n",
    "transform=ax.transData # coordinate system transformation\n",
    ")\n",
    "plt.text( # position text relative to Axes\n",
    "1.0, 1.0, 'axes corner',\n",
    "ha='right', va='top',\n",
    "transform=ax.transAxes\n",
    ")\n",
    "plt.text( # position text relative to Figure\n",
    "0.0, 1.0, 'figure corner',\n",
    "ha='left', va='top',\n",
    "transform=fig.transFigure\n",
    ")\n",
    "plt.text( # position text absolutely at specific pixel on image\n",
    "200, 300, 'pixel (200, 300)',\n",
    "ha='center', va='center',\n",
    "transform=None\n",
    ")\n",
    "plt.show()"
   ]
  }
 ],
 "metadata": {
  "kernelspec": {
   "display_name": "Python 3",
   "language": "python",
   "name": "python3"
  },
  "language_info": {
   "name": "python",
   "version": "3.10.5"
  },
  "orig_nbformat": 4,
  "vscode": {
   "interpreter": {
    "hash": "74af3d2f25f1e46ebd2903d59225d79e4675ec224d56c01fc30cd168c2010d53"
   }
  }
 },
 "nbformat": 4,
 "nbformat_minor": 2
}
