{
 "cells": [
  {
   "attachments": {},
   "cell_type": "markdown",
   "metadata": {},
   "source": [
    "### Chapter 16: LogLog Graphing"
   ]
  },
  {
   "attachments": {},
   "cell_type": "markdown",
   "metadata": {},
   "source": [
    "#### LogLog graphing"
   ]
  },
  {
   "cell_type": "code",
   "execution_count": null,
   "metadata": {},
   "outputs": [],
   "source": [
    "import matplotlib.pyplot as plt\n",
    "A = 30\n",
    "a = 3.5\n",
    "x = np.linspace(0.01, 5, 10000)\n",
    "y = A * x**a\n",
    "ax = plt.gca()\n",
    "plt.plot(x, y, linewidth=2.5, color='navy', label=r'$f(x) = 30 \\cdot x^{3.5}$')\n",
    "plt.legend(loc='upper left')\n",
    "plt.xlabel(r'x')\n",
    "plt.ylabel(r'y')\n",
    "ax.grid(True)\n",
    "plt.title(r'Normal plot')\n",
    "plt.show()\n",
    "plt.clf()\n",
    "xlog = np.log(x)\n",
    "ylog = np.log(y)\n",
    "ax = plt.gca()\n",
    "plt.plot(xlog, ylog, linewidth=2.5, color='navy', label=r'$f(x) = 3.5\\cdot x + \\ln(30)$')\n",
    "plt.legend(loc='best')\n",
    "plt.xlabel(r'log(x)')\n",
    "plt.ylabel(r'log(y)')\n",
    "ax.grid(True)\n",
    "plt.title(r'Log-Log plot')\n",
    "plt.show()\n",
    "plt.clf()"
   ]
  },
  {
   "attachments": {},
   "cell_type": "markdown",
   "metadata": {},
   "source": [
    "### End."
   ]
  }
 ],
 "metadata": {
  "language_info": {
   "name": "python"
  },
  "orig_nbformat": 4
 },
 "nbformat": 4,
 "nbformat_minor": 2
}
