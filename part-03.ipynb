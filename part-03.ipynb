{
 "cells": [
  {
   "attachments": {},
   "cell_type": "markdown",
   "metadata": {},
   "source": [
    "### Chapter 3: Basic Plots"
   ]
  },
  {
   "attachments": {},
   "cell_type": "markdown",
   "metadata": {},
   "source": [
    "#### Scatter Plots"
   ]
  },
  {
   "attachments": {},
   "cell_type": "markdown",
   "metadata": {},
   "source": [
    "#### A simple scatter plot"
   ]
  },
  {
   "cell_type": "code",
   "execution_count": null,
   "metadata": {},
   "outputs": [],
   "source": [
    "import matplotlib.pyplot as plt\n",
    "# Data\n",
    "x = [43,76,34,63,56,82,87,55,64,87,95,23,14,65,67,25,23,85]\n",
    "y = [34,45,34,23,43,76,26,18,24,74,23,56,23,23,34,56,32,23]\n",
    "fig, ax = plt.subplots(1, figsize=(10, 6))\n",
    "fig.suptitle('Example Of Scatterplot')\n",
    "https://riptutorial.com/ 14\n",
    "# Create the Scatter Plot\n",
    "ax.scatter(x, y,\n",
    "color=\"blue\", # Color of the dots\n",
    "s=100, # Size of the dots\n",
    "alpha=0.5, # Alpha/transparency of the dots (1 is opaque, 0 is transparent)\n",
    "linewidths=1) # Size of edge around the dots\n",
    "# Show the plot\n",
    "plt.show()"
   ]
  },
  {
   "attachments": {},
   "cell_type": "markdown",
   "metadata": {},
   "source": [
    "#### A Scatterplot with Labelled Points"
   ]
  },
  {
   "cell_type": "code",
   "execution_count": null,
   "metadata": {},
   "outputs": [],
   "source": [
    "import matplotlib.pyplot as plt\n",
    "# Data\n",
    "x = [21, 34, 44, 23]\n",
    "y = [435, 334, 656, 1999]\n",
    "labels = [\"alice\", \"bob\", \"charlie\", \"diane\"]\n",
    "# Create the figure and axes objects\n",
    "https://riptutorial.com/ 15\n",
    "fig, ax = plt.subplots(1, figsize=(10, 6))\n",
    "fig.suptitle('Example Of Labelled Scatterpoints')\n",
    "# Plot the scatter points\n",
    "ax.scatter(x, y,\n",
    "color=\"blue\", # Color of the dots\n",
    "s=100, # Size of the dots\n",
    "alpha=0.5, # Alpha of the dots\n",
    "linewidths=1) # Size of edge around the dots\n",
    "# Add the participant names as text labels for each point\n",
    "for x_pos, y_pos, label in zip(x, y, labels):\n",
    "ax.annotate(label, # The label for this point\n",
    "xy=(x_pos, y_pos), # Position of the corresponding point\n",
    "xytext=(7, 0), # Offset text by 7 points to the right\n",
    "textcoords='offset points', # tell it to use offset points\n",
    "ha='left', # Horizontally aligned to the left\n",
    "va='center') # Vertical alignment is centered\n",
    "# Show the plot\n",
    "plt.show()"
   ]
  },
  {
   "attachments": {},
   "cell_type": "markdown",
   "metadata": {},
   "source": [
    "#### Shaded Plots"
   ]
  },
  {
   "cell_type": "code",
   "execution_count": null,
   "metadata": {},
   "outputs": [],
   "source": [
    "import matplotlib.pyplot as plt\n",
    "# Data\n",
    "x = [0,1,2,3,4,5,6,7,8,9]\n",
    "y1 = [10,20,40,55,58,55,50,40,20,10]\n",
    "# Shade the area between y1 and line y=0\n",
    "plt.fill_between(x, y1, 0,\n",
    "facecolor=\"orange\", # The fill color\n",
    "color='blue', # The outline color\n",
    "alpha=0.2) # Transparency of the fill\n",
    "# Show the plot\n",
    "plt.show()"
   ]
  },
  {
   "attachments": {},
   "cell_type": "markdown",
   "metadata": {},
   "source": [
    "#### Shaded Region between two lines"
   ]
  },
  {
   "cell_type": "code",
   "execution_count": null,
   "metadata": {},
   "outputs": [],
   "source": [
    "import matplotlib.pyplot as plt\n",
    "# Data\n",
    "x = [0,1,2,3,4,5,6,7,8,9]\n",
    "y1 = [10,20,40,55,58,55,50,40,20,10]\n",
    "y2 = [20,30,50,77,82,77,75,68,65,60]\n",
    "# Shade the area between y1 and y2\n",
    "plt.fill_between(x, y1, y2,\n",
    "facecolor=\"orange\", # The fill color\n",
    "color='blue', # The outline color\n",
    "alpha=0.2) # Transparency of the fill\n",
    "# Show the plot\n",
    "plt.show()"
   ]
  },
  {
   "attachments": {},
   "cell_type": "markdown",
   "metadata": {},
   "source": [
    "#### Line plots"
   ]
  },
  {
   "attachments": {},
   "cell_type": "markdown",
   "metadata": {},
   "source": [
    "#### Simple line plot"
   ]
  },
  {
   "cell_type": "code",
   "execution_count": null,
   "metadata": {},
   "outputs": [],
   "source": [
    "import matplotlib.pyplot as plt\n",
    "# Data\n",
    "x = [14,23,23,25,34,43,55,56,63,64,65,67,76,82,85,87,87,95]\n",
    "y = [34,45,34,23,43,76,26,18,24,74,23,56,23,23,34,56,32,23]\n",
    "# Create the plot\n",
    "plt.plot(x, y, 'r-')\n",
    "# r- is a style code meaning red solid line\n",
    "# Show the plot\n",
    "plt.show()"
   ]
  },
  {
   "cell_type": "code",
   "execution_count": null,
   "metadata": {},
   "outputs": [],
   "source": [
    "Here's how a line plot with unsorted x-values looks like:\n",
    "# shuffle the elements in x\n",
    "np.random.shuffle(x)\n",
    "plt.plot(x, y, 'r-')\n",
    "plt.show()"
   ]
  },
  {
   "attachments": {},
   "cell_type": "markdown",
   "metadata": {},
   "source": [
    "#### Data plot"
   ]
  },
  {
   "cell_type": "code",
   "execution_count": null,
   "metadata": {},
   "outputs": [],
   "source": [
    "plt.plot(x, y, 'b^')\n",
    "# Create blue up-facing triangles"
   ]
  },
  {
   "attachments": {},
   "cell_type": "markdown",
   "metadata": {},
   "source": [
    "#### Data and line"
   ]
  },
  {
   "cell_type": "code",
   "execution_count": null,
   "metadata": {},
   "outputs": [],
   "source": [
    "plt.plot(x, y, 'go--')\n",
    "# green circles and dashed line"
   ]
  },
  {
   "attachments": {},
   "cell_type": "markdown",
   "metadata": {},
   "source": [
    "#### Heatmap"
   ]
  },
  {
   "cell_type": "code",
   "execution_count": null,
   "metadata": {},
   "outputs": [],
   "source": [
    "import numpy as np\n",
    "import matplotlib\n",
    "import matplotlib.pyplot as plt\n",
    "# Define numbers of generated data points and bins per axis.\n",
    "N_numbers = 100000\n",
    "N_bins = 100\n",
    "# set random seed\n",
    "np.random.seed(0)\n",
    "# Generate 2D normally distributed numbers.\n",
    "x, y = np.random.multivariate_normal(\n",
    "mean=[0.0, 0.0], # mean\n",
    "cov=[[1.0, 0.4],\n",
    "[0.4, 0.25]], # covariance matrix\n",
    "size=N_numbers\n",
    ").T # transpose to get columns\n",
    "# Construct 2D histogram from data using the 'plasma' colormap\n",
    "plt.hist2d(x, y, bins=N_bins, normed=False, cmap='plasma')\n",
    "https://riptutorial.com/ 23\n",
    "# Plot a colorbar with label.\n",
    "cb = plt.colorbar()\n",
    "cb.set_label('Number of entries')\n",
    "# Add title and labels to plot.\n",
    "plt.title('Heatmap of 2D normally distributed data points')\n",
    "plt.xlabel('x axis')\n",
    "plt.ylabel('y axis')\n",
    "# Show the plot.\n",
    "plt.show()"
   ]
  },
  {
   "cell_type": "code",
   "execution_count": null,
   "metadata": {},
   "outputs": [],
   "source": [
    "from mpl_toolkits.mplot3d import Axes3D\n",
    "import numpy as np\n",
    "import matplotlib\n",
    "import matplotlib.pyplot as plt\n",
    "# Define numbers of generated data points and bins per axis.\n",
    "https://riptutorial.com/ 24\n",
    "N_numbers = 100000\n",
    "N_bins = 20\n",
    "# set random seed\n",
    "np.random.seed(0)\n",
    "# Generate 2D normally distributed numbers.\n",
    "x, y = np.random.multivariate_normal(\n",
    "mean=[0.0, 0.0], # mean\n",
    "cov=[[1.0, 0.4],\n",
    "[0.4, 0.25]], # covariance matrix\n",
    "size=N_numbers\n",
    ").T # transpose to get columns\n",
    "fig = plt.figure()\n",
    "ax = fig.add_subplot(111, projection='3d')\n",
    "hist, xedges, yedges = np.histogram2d(x, y, bins=N_bins)\n",
    "# Add title and labels to plot.\n",
    "plt.title('3D histogram of 2D normally distributed data points')\n",
    "plt.xlabel('x axis')\n",
    "plt.ylabel('y axis')\n",
    "# Construct arrays for the anchor positions of the bars.\n",
    "# Note: np.meshgrid gives arrays in (ny, nx) so we use 'F' to flatten xpos,\n",
    "# ypos in column-major order. For numpy >= 1.7, we could instead call meshgrid\n",
    "# with indexing='ij'.\n",
    "xpos, ypos = np.meshgrid(xedges[:-1] + 0.25, yedges[:-1] + 0.25)\n",
    "xpos = xpos.flatten('F')\n",
    "ypos = ypos.flatten('F')\n",
    "zpos = np.zeros_like(xpos)\n",
    "# Construct arrays with the dimensions for the 16 bars.\n",
    "dx = 0.5 * np.ones_like(zpos)\n",
    "dy = dx.copy()\n",
    "dz = hist.flatten()\n",
    "ax.bar3d(xpos, ypos, zpos, dx, dy, dz, color='b', zsort='average')\n",
    "# Show the plot.\n",
    "plt.show()"
   ]
  },
  {
   "attachments": {},
   "cell_type": "markdown",
   "metadata": {},
   "source": [
    "### End."
   ]
  }
 ],
 "metadata": {
  "kernelspec": {
   "display_name": "Python 3",
   "language": "python",
   "name": "python3"
  },
  "language_info": {
   "name": "python",
   "version": "3.10.5"
  },
  "orig_nbformat": 4,
  "vscode": {
   "interpreter": {
    "hash": "74af3d2f25f1e46ebd2903d59225d79e4675ec224d56c01fc30cd168c2010d53"
   }
  }
 },
 "nbformat": 4,
 "nbformat_minor": 2
}
