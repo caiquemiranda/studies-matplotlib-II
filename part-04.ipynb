{
 "cells": [
  {
   "attachments": {},
   "cell_type": "markdown",
   "metadata": {},
   "source": [
    "### Chapter 4: Boxplots"
   ]
  },
  {
   "attachments": {},
   "cell_type": "markdown",
   "metadata": {},
   "source": [
    "#### Basic Boxplots"
   ]
  },
  {
   "cell_type": "code",
   "execution_count": null,
   "metadata": {},
   "outputs": [],
   "source": [
    "import matplotlib as plt\n",
    "dataline1 = [43,76,34,63,56,82,87,55,64,87,95,23,14,65,67,25,23,85]\n",
    "dataline2 = [34,45,34,23,43,76,26,18,24,74,23,56,23,23,34,56,32,23]\n",
    "data = [ dataline1, dataline2 ]\n",
    "plt.boxplot( data )"
   ]
  },
  {
   "cell_type": "code",
   "execution_count": null,
   "metadata": {},
   "outputs": [],
   "source": [
    "import numpy as np\n",
    "import matplotlib as plt\n",
    "np.random.seed(123)\n",
    "dataline1 = np.random.normal( loc=50, scale=20, size=18 )\n",
    "dataline2 = np.random.normal( loc=30, scale=10, size=18 )\n",
    "data = np.stack( [ dataline1, dataline2 ], axis=1 )\n",
    "plt.boxplot( data"
   ]
  },
  {
   "attachments": {},
   "cell_type": "markdown",
   "metadata": {},
   "source": [
    "### End."
   ]
  }
 ],
 "metadata": {
  "kernelspec": {
   "display_name": "Python 3",
   "language": "python",
   "name": "python3"
  },
  "language_info": {
   "name": "python",
   "version": "3.10.5"
  },
  "orig_nbformat": 4,
  "vscode": {
   "interpreter": {
    "hash": "74af3d2f25f1e46ebd2903d59225d79e4675ec224d56c01fc30cd168c2010d53"
   }
  }
 },
 "nbformat": 4,
 "nbformat_minor": 2
}
