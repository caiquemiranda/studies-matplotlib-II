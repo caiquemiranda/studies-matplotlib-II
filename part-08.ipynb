{
 "cells": [
  {
   "attachments": {},
   "cell_type": "markdown",
   "metadata": {},
   "source": [
    "### Chapter 8: Contour Maps"
   ]
  },
  {
   "attachments": {},
   "cell_type": "markdown",
   "metadata": {},
   "source": [
    "#### Simple filled contour plotting"
   ]
  },
  {
   "cell_type": "code",
   "execution_count": null,
   "metadata": {},
   "outputs": [],
   "source": [
    "import matplotlib.pyplot as plt\n",
    "import numpy as np\n",
    "# generate 101 x and y values between -10 and 10\n",
    "x = np.linspace(-10, 10, 101)\n",
    "y = np.linspace(-10, 10, 101)\n",
    "# make X and Y matrices representing x and y values of 2d plane\n",
    "X, Y = np.meshgrid(x, y)\n",
    "# compute z value of a point as a function of x and y (z = l2 distance form 0,0)\n",
    "Z = np.sqrt(X ** 2 + Y ** 2)\n",
    "# plot filled contour map with 100 levels\n",
    "cs = plt.contourf(X, Y, Z, 100)\n",
    "# add default colorbar for the map\n",
    "plt.colorbar(cs)"
   ]
  },
  {
   "attachments": {},
   "cell_type": "markdown",
   "metadata": {},
   "source": [
    "#### Simple contour plotting"
   ]
  },
  {
   "cell_type": "code",
   "execution_count": null,
   "metadata": {},
   "outputs": [],
   "source": [
    "import matplotlib.pyplot as plt\n",
    "import numpy as np\n",
    "# generate 101 x and y values between -10 and 10\n",
    "x = np.linspace(-10, 10, 101)\n",
    "y = np.linspace(-10, 10, 101)\n",
    "# make X and Y matrices representing x and y values of 2d plane\n",
    "X, Y = np.meshgrid(x, y)\n",
    "# compute z value of a point as a function of x and y (z = l2 distance form 0,0)\n",
    "Z = np.sqrt(X ** 2 + Y ** 2)\n",
    "# plot contour map with 3 levels\n",
    "# colors: up to 1 - blue, from 1 to 4 - green, from 4 to 8 - red\n",
    "plt.contour(X, Y, Z, [1, 4, 8], colors=['b', 'g', 'r'])"
   ]
  },
  {
   "attachments": {},
   "cell_type": "markdown",
   "metadata": {},
   "source": [
    "### End."
   ]
  }
 ],
 "metadata": {
  "kernelspec": {
   "display_name": "Python 3",
   "language": "python",
   "name": "python3"
  },
  "language_info": {
   "name": "python",
   "version": "3.10.5"
  },
  "orig_nbformat": 4,
  "vscode": {
   "interpreter": {
    "hash": "74af3d2f25f1e46ebd2903d59225d79e4675ec224d56c01fc30cd168c2010d53"
   }
  }
 },
 "nbformat": 4,
 "nbformat_minor": 2
}
