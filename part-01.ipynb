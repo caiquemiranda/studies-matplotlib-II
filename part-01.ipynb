{
 "cells": [
  {
   "attachments": {},
   "cell_type": "markdown",
   "metadata": {},
   "source": [
    "### Chapter 1: Getting started with matplotlib"
   ]
  },
  {
   "cell_type": "code",
   "execution_count": 1,
   "metadata": {},
   "outputs": [
    {
     "data": {
      "text/plain": [
       "(0.0, 3.141592653589793)"
      ]
     },
     "execution_count": 1,
     "metadata": {},
     "output_type": "execute_result"
    },
    {
     "data": {
      "image/png": "[encoded data removed]",
      "text/plain": [
       "<Figure size 432x288 with 1 Axes>"
      ]
     },
     "metadata": {
      "needs_background": "light"
     },
     "output_type": "display_data"
    }
   ],
   "source": [
    "import pylab as plt\n",
    "import numpy as np\n",
    "plt.style.use('ggplot')\n",
    "fig = plt.figure(1)\n",
    "ax = plt.gca()\n",
    "# make some testing data\n",
    "x = np.linspace( 0, np.pi, 1000 )\n",
    "test_f = lambda x: np.sin(x)*3 + np.cos(2*x)\n",
    "# plot the test data\n",
    "ax.plot( x, test_f(x) , lw = 2)\n",
    "# set the axis labels\n",
    "ax.set_xlabel(r'$x$', fontsize=14, labelpad=10)\n",
    "ax.set_ylabel(r'$f(x)$', fontsize=14, labelpad=25, rotation=0)\n",
    "# set axis limits\n",
    "ax.set_xlim(0,np.pi)"
   ]
  },
  {
   "cell_type": "code",
   "execution_count": null,
   "metadata": {},
   "outputs": [],
   "source": [
    "# Customize the plot\n",
    "ax.grid(1, ls='--', color='#777777', alpha=0.5, lw=1)\n",
    "ax.tick_params(labelsize=12, length=0)\n",
    "ax.set_axis_bgcolor('w')\n",
    "# add a legend\n",
    "leg = plt.legend( ['text'], loc=1 )\n",
    "fr = leg.get_frame()\n",
    "fr.set_facecolor('w')\n",
    "fr.set_alpha(.7)\n",
    "plt.draw()"
   ]
  },
  {
   "attachments": {},
   "cell_type": "markdown",
   "metadata": {},
   "source": [
    "#### Imperative vs. Object-oriented Syntax"
   ]
  },
  {
   "cell_type": "code",
   "execution_count": null,
   "metadata": {},
   "outputs": [],
   "source": [
    "import matplotlib.pyplot as plt\n",
    "import numpy as np\n",
    "t = np.arange(0, 2, 0.01)\n",
    "y = np.sin(4 * np.pi * t)\n",
    "# Imperative syntax\n",
    "plt.figure(1)\n",
    "plt.clf()\n",
    "plt.plot(t, y)\n",
    "plt.xlabel('Time (s)')\n",
    "plt.ylabel('Amplitude (V)')\n",
    "plt.title('Sine Wave')\n",
    "plt.grid(True)\n",
    "# Object oriented syntax\n",
    "fig = plt.figure(2)\n",
    "fig.clf()\n",
    "ax = fig.add_subplot(1,1,1)\n",
    "ax.plot(t, y)\n",
    "ax.set_xlabel('Time (s)')\n",
    "ax.set_ylabel('Amplitude (V)')\n",
    "ax.set_title('Sine Wave')\n",
    "ax.grid(True)"
   ]
  },
  {
   "cell_type": "code",
   "execution_count": null,
   "metadata": {},
   "outputs": [],
   "source": [
    "import numpy as np\n",
    "from matplotlib.pyplot import imshow, show, colorbar\n",
    "image = np.random.rand(4,4)\n",
    "imshow(image)\n",
    "colorbar()\n",
    "show()"
   ]
  },
  {
   "attachments": {},
   "cell_type": "markdown",
   "metadata": {},
   "source": [
    "### End."
   ]
  }
 ],
 "metadata": {
  "kernelspec": {
   "display_name": "Python 3",
   "language": "python",
   "name": "python3"
  },
  "language_info": {
   "codemirror_mode": {
    "name": "ipython",
    "version": 3
   },
   "file_extension": ".py",
   "mimetype": "text/x-python",
   "name": "python",
   "nbconvert_exporter": "python",
   "pygments_lexer": "ipython3",
   "version": "3.10.5"
  },
  "orig_nbformat": 4,
  "vscode": {
   "interpreter": {
    "hash": "74af3d2f25f1e46ebd2903d59225d79e4675ec224d56c01fc30cd168c2010d53"
   }
  }
 },
 "nbformat": 4,
 "nbformat_minor": 2
}
