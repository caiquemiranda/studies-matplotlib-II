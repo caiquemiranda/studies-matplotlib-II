{
 "cells": [
  {
   "attachments": {},
   "cell_type": "markdown",
   "metadata": {},
   "source": [
    "### Chapter 11: Grid Lines and Tick Marks"
   ]
  },
  {
   "attachments": {},
   "cell_type": "markdown",
   "metadata": {},
   "source": [
    "#### Plot With Gridlines"
   ]
  },
  {
   "cell_type": "code",
   "execution_count": null,
   "metadata": {},
   "outputs": [],
   "source": [
    "import matplotlib.pyplot as plt\n",
    "# The Data\n",
    "x = [1, 2, 3, 4]\n",
    "y = [234, 124,368, 343]\n",
    "# Create the figure and axes objects\n",
    "fig, ax = plt.subplots(1, figsize=(8, 6))\n",
    "https://riptutorial.com/ 52\n",
    "fig.suptitle('Example Of Plot With Grid Lines')\n",
    "# Plot the data\n",
    "ax.plot(x,y)\n",
    "# Show the grid lines as dark grey lines\n",
    "plt.grid(b=True, which='major', color='#666666', linestyle='-')\n",
    "plt.show()"
   ]
  },
  {
   "attachments": {},
   "cell_type": "markdown",
   "metadata": {},
   "source": [
    "### Plot With Major and Minor Grid Lines"
   ]
  },
  {
   "cell_type": "code",
   "execution_count": null,
   "metadata": {},
   "outputs": [],
   "source": [
    "import matplotlib.pyplot as plt\n",
    "# The Data\n",
    "x = [1, 2, 3, 4]\n",
    "y = [234, 124,368, 343]\n",
    "# Create the figure and axes objects\n",
    "https://riptutorial.com/ 53\n",
    "fig, ax = plt.subplots(1, figsize=(8, 6))\n",
    "fig.suptitle('Example Of Plot With Major and Minor Grid Lines')\n",
    "# Plot the data\n",
    "ax.plot(x,y)\n",
    "# Show the major grid lines with dark grey lines\n",
    "plt.grid(b=True, which='major', color='#666666', linestyle='-')\n",
    "# Show the minor grid lines with very faint and almost transparent grey lines\n",
    "plt.minorticks_on()\n",
    "plt.grid(b=True, which='minor', color='#999999', linestyle='-', alpha=0.2)\n",
    "plt.show()"
   ]
  },
  {
   "attachments": {},
   "cell_type": "markdown",
   "metadata": {},
   "source": [
    "### End."
   ]
  }
 ],
 "metadata": {
  "kernelspec": {
   "display_name": "Python 3",
   "language": "python",
   "name": "python3"
  },
  "language_info": {
   "name": "python",
   "version": "3.10.5"
  },
  "orig_nbformat": 4,
  "vscode": {
   "interpreter": {
    "hash": "74af3d2f25f1e46ebd2903d59225d79e4675ec224d56c01fc30cd168c2010d53"
   }
  }
 },
 "nbformat": 4,
 "nbformat_minor": 2
}
