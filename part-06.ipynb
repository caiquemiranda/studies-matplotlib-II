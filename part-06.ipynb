{
 "cells": [
  {
   "attachments": {},
   "cell_type": "markdown",
   "metadata": {},
   "source": [
    "### Chapter 6: Closing a figure window"
   ]
  },
  {
   "attachments": {},
   "cell_type": "markdown",
   "metadata": {},
   "source": [
    "Syntax\n",
    "- plt.close() # closes the current active figure\n",
    "- plt.close(fig) # closes the figure with handle 'fig'\n",
    "- plt.close(num) # closes the figure number 'num'\n",
    "- plt.close(name) # closes the figure with the label 'name'\n",
    "- plt.close('all') # closes all figures"
   ]
  },
  {
   "attachments": {},
   "cell_type": "markdown",
   "metadata": {},
   "source": [
    "#### Closing the current active figure using pyplot"
   ]
  },
  {
   "cell_type": "code",
   "execution_count": null,
   "metadata": {},
   "outputs": [],
   "source": [
    "import matplotlib.pyplot as plt\n",
    "plt.plot([0, 1], [0, 1])\n",
    "plt.close()"
   ]
  },
  {
   "attachments": {},
   "cell_type": "markdown",
   "metadata": {},
   "source": [
    "#### Closing a specific figure using plt.close()"
   ]
  },
  {
   "cell_type": "code",
   "execution_count": null,
   "metadata": {},
   "outputs": [],
   "source": [
    "import matplotlib.pyplot as plt\n",
    "fig1 = plt.figure() # create first figure\n",
    "plt.plot([0, 1], [0, 1])\n",
    "fig2 = plt.figure() # create second figure\n",
    "plt.plot([0, 1], [0, 1])\n",
    "plt.close(fig1) # close first figure although second one is active"
   ]
  },
  {
   "attachments": {},
   "cell_type": "markdown",
   "metadata": {},
   "source": [
    "### End."
   ]
  }
 ],
 "metadata": {
  "language_info": {
   "name": "python"
  },
  "orig_nbformat": 4
 },
 "nbformat": 4,
 "nbformat_minor": 2
}
