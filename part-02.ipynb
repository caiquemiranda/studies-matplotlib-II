{
 "cells": [
  {
   "attachments": {},
   "cell_type": "markdown",
   "metadata": {},
   "source": [
    "### Chapter 2: Animations and interactive plotting"
   ]
  },
  {
   "attachments": {},
   "cell_type": "markdown",
   "metadata": {},
   "source": [
    "#### Basic animation with FuncAnimation"
   ]
  },
  {
   "cell_type": "code",
   "execution_count": null,
   "metadata": {},
   "outputs": [],
   "source": [
    "import numpy as np\n",
    "import matplotlib.pyplot as plt\n",
    "import matplotlib.animation as animation\n",
    "TWOPI = 2*np.pi\n",
    "fig, ax = plt.subplots()\n",
    "t = np.arange(0.0, TWOPI, 0.001)\n",
    "s = np.sin(t)\n",
    "l = plt.plot(t, s)\n",
    "ax = plt.axis([0,TWOPI,-1,1])\n",
    "redDot, = plt.plot([0], [np.sin(0)], 'ro')\n",
    "def animate(i):\n",
    "redDot.set_data(i, np.sin(i))\n",
    "return redDot,\n",
    "# create animation using the animate() function\n",
    "myAnimation = animation.FuncAnimation(fig, animate, frames=np.arange(0.0, TWOPI, 0.1), \\\n",
    "interval=10, blit=True, repeat=True)\n",
    "plt.show()"
   ]
  },
  {
   "attachments": {},
   "cell_type": "markdown",
   "metadata": {},
   "source": [
    "#### Save animation to gif"
   ]
  },
  {
   "cell_type": "code",
   "execution_count": null,
   "metadata": {},
   "outputs": [],
   "source": [
    "import numpy as np\n",
    "import matplotlib.pyplot as plt\n",
    "import matplotlib.animation as animation\n",
    "from matplotlib import rcParams\n",
    "# make sure the full paths for ImageMagick and ffmpeg are configured\n",
    "rcParams['animation.convert_path'] = r'C:\\Program Files\\ImageMagick\\convert'\n",
    "rcParams['animation.ffmpeg_path'] = r'C:\\Program Files\\ffmpeg\\bin\\ffmpeg.exe'\n",
    "TWOPI = 2*np.pi\n",
    "fig, ax = plt.subplots()\n",
    "t = np.arange(0.0, TWOPI, 0.001)\n",
    "s = np.sin(t)\n",
    "l = plt.plot(t, s)\n",
    "https://riptutorial.com/ 9\n",
    "ax = plt.axis([0,TWOPI,-1,1])\n",
    "redDot, = plt.plot([0], [np.sin(0)], 'ro')\n",
    "def animate(i):\n",
    "redDot.set_data(i, np.sin(i))\n",
    "return redDot,\n",
    "# create animation using the animate() function with no repeat\n",
    "myAnimation = animation.FuncAnimation(fig, animate, frames=np.arange(0.0, TWOPI, 0.1), \\\n",
    "interval=10, blit=True, repeat=False)\n",
    "# save animation at 30 frames per second\n",
    "myAnimation.save('myAnimation.gif', writer='imagemagick', fps=30)"
   ]
  },
  {
   "attachments": {},
   "cell_type": "markdown",
   "metadata": {},
   "source": [
    "### Interactive controls with matplotlib.widgets"
   ]
  },
  {
   "cell_type": "code",
   "execution_count": null,
   "metadata": {},
   "outputs": [],
   "source": [
    "import numpy as np\n",
    "import matplotlib.pyplot as plt\n",
    "import matplotlib.animation as animation\n",
    "from matplotlib.widgets import Slider\n",
    "TWOPI = 2*np.pi\n",
    "fig, ax = plt.subplots()\n",
    "t = np.arange(0.0, TWOPI, 0.001)\n",
    "initial_amp = .5\n",
    "s = initial_amp*np.sin(t)\n",
    "l, = plt.plot(t, s, lw=2)\n",
    "ax = plt.axis([0,TWOPI,-1,1])\n",
    "axamp = plt.axes([0.25, .03, 0.50, 0.02])\n",
    "# Slider\n",
    "samp = Slider(axamp, 'Amp', 0, 1, valinit=initial_amp)\n",
    "def update(val):\n",
    "# amp is the current value of the slider\n",
    "amp = samp.val\n",
    "# update curve\n",
    "l.set_ydata(amp*np.sin(t))\n",
    "# redraw canvas while idle\n",
    "fig.canvas.draw_idle()\n",
    "# call update function on slider value change\n",
    "samp.on_changed(update)\n",
    "plt.show()"
   ]
  },
  {
   "cell_type": "code",
   "execution_count": null,
   "metadata": {},
   "outputs": [],
   "source": [
    "import matplotlib\n",
    "import collections\n",
    "#selecting the right backend, change qt4agg to your desired backend\n",
    "matplotlib.use('qt4agg')\n",
    "import matplotlib.pyplot as plt\n",
    "import matplotlib.animation as animation\n",
    "#command to open the pipe\n",
    "datapipe = open('path to your pipe','r')\n",
    "#amount of data to be displayed at once, this is the size of the x axis\n",
    "#increasing this amount also makes plotting slightly slower\n",
    "data_amount = 1000\n",
    "#set the size of the deque object\n",
    "datalist = collections.deque([0]*data_amount,data_amount)\n",
    "#configure the graph itself\n",
    "fig, ax = plt.subplots()\n",
    "line, = ax.plot([0,]*data_amount)\n",
    "#size of the y axis is set here\n",
    "ax.set_ylim(0,256)\n",
    "def update(data):\n",
    "line.set_ydata(data)\n",
    "return line,\n",
    "https://riptutorial.com/ 12\n",
    "def data_gen():\n",
    "while True:\n",
    "\"\"\"\n",
    "We read two data points in at once, to improve speed\n",
    "You can read more at once to increase speed\n",
    "Or you can read just one at a time for improved animation smoothness\n",
    "data from the pipe comes in as a string,\n",
    "and is seperated with a newline character,\n",
    "which is why we use respectively eval and rstrip.\n",
    "\"\"\"\n",
    "datalist.append(eval((datapipe.readline()).rstrip('\\n')))\n",
    "datalist.append(eval((datapipe.readline()).rstrip('\\n')))\n",
    "yield datalist\n",
    "ani = animation.FuncAnimation(fig,update,data_gen,interval=0, blit=True)\n",
    "plt.show()"
   ]
  },
  {
   "cell_type": "code",
   "execution_count": null,
   "metadata": {},
   "outputs": [],
   "source": []
  },
  {
   "cell_type": "code",
   "execution_count": null,
   "metadata": {},
   "outputs": [],
   "source": []
  },
  {
   "cell_type": "code",
   "execution_count": null,
   "metadata": {},
   "outputs": [],
   "source": []
  },
  {
   "cell_type": "code",
   "execution_count": null,
   "metadata": {},
   "outputs": [],
   "source": []
  }
 ],
 "metadata": {
  "kernelspec": {
   "display_name": "Python 3",
   "language": "python",
   "name": "python3"
  },
  "language_info": {
   "name": "python",
   "version": "3.10.5"
  },
  "orig_nbformat": 4,
  "vscode": {
   "interpreter": {
    "hash": "74af3d2f25f1e46ebd2903d59225d79e4675ec224d56c01fc30cd168c2010d53"
   }
  }
 },
 "nbformat": 4,
 "nbformat_minor": 2
}
