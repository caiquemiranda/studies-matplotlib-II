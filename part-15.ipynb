{
 "cells": [
  {
   "attachments": {},
   "cell_type": "markdown",
   "metadata": {},
   "source": [
    "### Chapter 15: Legends"
   ]
  },
  {
   "attachments": {},
   "cell_type": "markdown",
   "metadata": {},
   "source": [
    "#### Simple Legend"
   ]
  },
  {
   "cell_type": "code",
   "execution_count": null,
   "metadata": {},
   "outputs": [],
   "source": [
    "ax.plot(x, y1, color=\"red\", label=\"My Line 1\")"
   ]
  },
  {
   "cell_type": "code",
   "execution_count": null,
   "metadata": {},
   "outputs": [],
   "source": [
    "ax.legend(loc=\"lower right\", title=\"Legend Title\", frameon=False)"
   ]
  },
  {
   "cell_type": "code",
   "execution_count": null,
   "metadata": {},
   "outputs": [],
   "source": [
    "import matplotlib.pyplot as plt\n",
    "# The data\n",
    "x = [1, 2, 3]\n",
    "y1 = [2, 15, 27]\n",
    "y2 = [10, 40, 45]\n",
    "y3 = [5, 25, 40]\n",
    "# Initialize the figure and axes\n",
    "fig, ax = plt.subplots(1, figsize=(8, 6))\n",
    "# Set the title for the figure\n",
    "fig.suptitle('Simple Legend Example ', fontsize=15)\n",
    "# Draw all the lines in the same plot, assigning a label for each one to be\n",
    "# shown in the legend\n",
    "ax.plot(x, y1, color=\"red\", label=\"My Line 1\")\n",
    "ax.plot(x, y2, color=\"green\", label=\"My Line 2\")\n",
    "ax.plot(x, y3, color=\"blue\", label=\"My Line 3\")\n",
    "# Add a legend with title, position it on the lower right (loc) with no box framing (frameon)\n",
    "ax.legend(loc=\"lower right\", title=\"Legend Title\", frameon=False)\n",
    "https://riptutorial.com/ 63\n",
    "# Show the plot\n",
    "plt.show()"
   ]
  },
  {
   "attachments": {},
   "cell_type": "markdown",
   "metadata": {},
   "source": [
    "#### Legend Placed Outside of Plot"
   ]
  },
  {
   "cell_type": "code",
   "execution_count": null,
   "metadata": {},
   "outputs": [],
   "source": [
    "import matplotlib.pylab as plt\n",
    "fig, ax = plt.subplots(1, 1, figsize=(10,6)) # make the figure with the size 10 x 6 inches\n",
    "fig.suptitle('Example of a Legend Being Placed Outside of Plot')\n",
    "# The data\n",
    "x = [1, 2, 3]\n",
    "y1 = [1, 2, 4]\n",
    "y2 = [2, 4, 8]\n",
    "y3 = [3, 5, 14]\n",
    "# Labels to use for each line\n",
    "line_labels = [\"Item A\", \"Item B\", \"Item C\"]\n",
    "https://riptutorial.com/ 64\n",
    "# Create the lines, assigning different colors for each one.\n",
    "# Also store the created line objects\n",
    "l1 = ax.plot(x, y1, color=\"red\")[0]\n",
    "l2 = ax.plot(x, y2, color=\"green\")[0]\n",
    "l3 = ax.plot(x, y3, color=\"blue\")[0]\n",
    "fig.legend([l1, l2, l3], # List of the line objects\n",
    "labels= line_labels, # The labels for each line\n",
    "loc=\"center right\", # Position of the legend\n",
    "borderaxespad=0.1, # Add little spacing around the legend box\n",
    "title=\"Legend Title\") # Title for the legend\n",
    "# Adjust the scaling factor to fit your legend text completely outside the plot\n",
    "# (smaller value results in more space being made for the legend)\n",
    "plt.subplots_adjust(right=0.85)\n",
    "plt.show()"
   ]
  },
  {
   "cell_type": "code",
   "execution_count": null,
   "metadata": {},
   "outputs": [],
   "source": [
    "fig, (ax1, ax2, ax3) = plt.subplots(1, 3, figsize=(10,4))\n",
    "fig.suptitle('Example of a Single Legend Shared Across Multiple Subplots')\n",
    "# The data\n",
    "x = [1, 2, 3]\n",
    "y1 = [1, 2, 3]\n",
    "y2 = [3, 1, 3]\n",
    "y3 = [1, 3, 1]\n",
    "y4 = [2, 2, 3]\n",
    "# Labels to use in the legend for each line\n",
    "line_labels = [\"Line A\", \"Line B\", \"Line C\", \"Line D\"]\n",
    "# Create the sub-plots, assigning a different color for each line.\n",
    "# Also store the line objects created\n",
    "l1 = ax1.plot(x, y1, color=\"red\")[0]\n",
    "l2 = ax2.plot(x, y2, color=\"green\")[0]\n",
    "l3 = ax3.plot(x, y3, color=\"blue\")[0]\n",
    "l4 = ax3.plot(x, y4, color=\"orange\")[0] # A second line in the third subplot\n",
    "# Create the legend\n",
    "fig.legend([l1, l2, l3, l4], # The line objects\n",
    "labels=line_labels, # The labels for each line\n",
    "loc=\"center right\", # Position of legend\n",
    "borderaxespad=0.1, # Small spacing around legend box\n",
    "title=\"Legend Title\" # Title for the legend\n",
    ")\n",
    "# Adjust the scaling factor to fit your legend text completely outside the plot\n",
    "# (smaller value results in more space being made for the legend)\n",
    "plt.subplots_adjust(right=0.85)\n",
    "plt.show()"
   ]
  },
  {
   "attachments": {},
   "cell_type": "markdown",
   "metadata": {},
   "source": [
    "#### Multiple Legends on the Same Axes"
   ]
  },
  {
   "cell_type": "code",
   "execution_count": null,
   "metadata": {},
   "outputs": [],
   "source": [
    "import matplotlib.pyplot as plt\n",
    "import numpy as np\n",
    "# Generate data for plotting:\n",
    "x = np.linspace(0,2*np.pi,100)\n",
    "y0 = np.sin(x)\n",
    "y1 = .9*np.sin(.9*x)\n",
    "# Find their maxima and minima and store\n",
    "maxes = np.empty((2,2))\n",
    "mins = np.empty((2,2))\n",
    "for k,y in enumerate([y0,y1]):\n",
    "maxloc = y.argmax()\n",
    "maxes[k] = x[maxloc], y[maxloc]\n",
    "minloc = y.argmin()\n",
    "mins[k] = x[minloc], y[minloc]\n",
    "# Instantiate figure and plot\n",
    "fig = plt.figure()\n",
    "ax = fig.add_subplot(111)\n",
    "ax.plot(x,y0, label='y0')\n",
    "ax.plot(x,y1, label='y1')\n",
    "# Plot maxima and minima, and keep references to the lines\n",
    "maxline, = ax.plot(maxes[:,0], maxes[:,1], 'r^')\n",
    "minline, = ax.plot(mins[:,0], mins[:,1], 'ko')\n",
    "# Add first legend: only labeled data is included\n",
    "leg1 = ax.legend(loc='lower left')\n",
    "# Add second legend for the maxes and mins.\n",
    "# leg1 will be removed from figure\n",
    "leg2 = ax.legend([maxline,minline],['max','min'], loc='upper right')\n",
    "# Manually add the first legend back\n",
    "ax.add_artist(leg1)"
   ]
  },
  {
   "cell_type": "code",
   "execution_count": null,
   "metadata": {},
   "outputs": [],
   "source": [
    "leg1.get_lines()[0].set_lw(8)\n",
    "leg2.get_texts()[1].set_color('b')"
   ]
  },
  {
   "attachments": {},
   "cell_type": "markdown",
   "metadata": {},
   "source": [
    "### End."
   ]
  }
 ],
 "metadata": {
  "kernelspec": {
   "display_name": "Python 3",
   "language": "python",
   "name": "python3"
  },
  "language_info": {
   "name": "python",
   "version": "3.10.5"
  },
  "orig_nbformat": 4,
  "vscode": {
   "interpreter": {
    "hash": "74af3d2f25f1e46ebd2903d59225d79e4675ec224d56c01fc30cd168c2010d53"
   }
  }
 },
 "nbformat": 4,
 "nbformat_minor": 2
}
