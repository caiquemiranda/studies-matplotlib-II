{
 "cells": [
  {
   "attachments": {},
   "cell_type": "markdown",
   "metadata": {},
   "source": [
    "### Chapter 5: Boxplots"
   ]
  },
  {
   "attachments": {},
   "cell_type": "markdown",
   "metadata": {},
   "source": [
    "#### Boxplot function"
   ]
  },
  {
   "cell_type": "code",
   "execution_count": null,
   "metadata": {},
   "outputs": [],
   "source": [
    "# implementation of boxplot:\n",
    "import matplotlib.pyplot as plt\n",
    "import numpy as np\n",
    "X1 = np.random.normal(0, 1, 500)\n",
    "X2 = np.random.normal(0.3, 1, 500)\n",
    "# The most simple boxplot\n",
    "plt.boxplot(X1)\n",
    "plt.show()\n",
    "# Changing some of its features\n",
    "plt.boxplot(X1, notch=True, sym=\"o\") # Use sym=\"\" to shown no fliers; also showfliers=False\n",
    "plt.show()\n",
    "# Showing multiple boxplots on the same window\n",
    "plt.boxplot((X1, X2), notch=True, sym=\"o\", labels=[\"Set 1\", \"Set 2\"])\n",
    "plt.show()\n",
    "# Hidding features of the boxplot\n",
    "plt.boxplot(X2, notch=False, showfliers=False, showbox=False, showcaps=False, positions=[4],\n",
    "labels=[\"Set 2\"])\n",
    "plt.show()\n",
    "# Advanced customization of the boxplot\n",
    "line_props = dict(color=\"r\", alpha=0.3)\n",
    "bbox_props = dict(color=\"g\", alpha=0.9, linestyle=\"dashdot\")\n",
    "flier_props = dict(marker=\"o\", markersize=17)\n",
    "plt.boxplot(X1, notch=True, whiskerprops=line_props, boxprops=bbox_props,\n",
    "flierprops=flier_props)\n",
    "plt.show()"
   ]
  },
  {
   "cell_type": "code",
   "execution_count": null,
   "metadata": {},
   "outputs": [],
   "source": [
    "line_props = dict(color=\"r\", alpha=0.3)\n",
    "bbox_props = dict(color=\"g\", alpha=0.9, linestyle=\"dashdot\")\n",
    "flier_props = dict(marker=\"o\", markersize=17)\n",
    "plt.boxplot(X1, notch=True, whiskerprops=line_props, boxprops=bbox_props,\n",
    "flierprops=flier_props)\n",
    "plt.show()"
   ]
  },
  {
   "attachments": {},
   "cell_type": "markdown",
   "metadata": {},
   "source": [
    "### End."
   ]
  }
 ],
 "metadata": {
  "language_info": {
   "name": "python"
  },
  "orig_nbformat": 4
 },
 "nbformat": 4,
 "nbformat_minor": 2
}
